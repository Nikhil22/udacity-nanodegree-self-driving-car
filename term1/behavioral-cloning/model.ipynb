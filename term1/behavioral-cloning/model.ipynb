{
 "cells": [
  {
   "cell_type": "code",
   "execution_count": 4,
   "metadata": {},
   "outputs": [
    {
     "name": "stderr",
     "output_type": "stream",
     "text": [
      "Using TensorFlow backend.\n"
     ]
    },
    {
     "name": "stdout",
     "output_type": "stream",
     "text": [
      "____________________________________________________________________________________________________\n",
      "Layer (type)                     Output Shape          Param #     Connected to                     \n",
      "====================================================================================================\n",
      "cropping2d_1 (Cropping2D)        (None, 60, 320, 3)    0           cropping2d_input_1[0][0]         \n",
      "____________________________________________________________________________________________________\n",
      "lambda_1 (Lambda)                (None, 40, 160, 3)    0           cropping2d_1[0][0]               \n",
      "____________________________________________________________________________________________________\n",
      "lambda_2 (Lambda)                (None, 40, 160, 3)    0           lambda_1[0][0]                   \n",
      "____________________________________________________________________________________________________\n",
      "convolution2d_1 (Convolution2D)  (None, 10, 40, 18)    4392        lambda_2[0][0]                   \n",
      "____________________________________________________________________________________________________\n",
      "elu_1 (ELU)                      (None, 10, 40, 18)    0           convolution2d_1[0][0]            \n",
      "____________________________________________________________________________________________________\n",
      "convolution2d_2 (Convolution2D)  (None, 5, 20, 30)     13530       elu_1[0][0]                      \n",
      "____________________________________________________________________________________________________\n",
      "elu_2 (ELU)                      (None, 5, 20, 30)     0           convolution2d_2[0][0]            \n",
      "____________________________________________________________________________________________________\n",
      "convolution2d_3 (Convolution2D)  (None, 3, 10, 64)     69184       elu_2[0][0]                      \n",
      "____________________________________________________________________________________________________\n",
      "flatten_1 (Flatten)              (None, 1920)          0           convolution2d_3[0][0]            \n",
      "____________________________________________________________________________________________________\n",
      "elu_3 (ELU)                      (None, 1920)          0           flatten_1[0][0]                  \n",
      "____________________________________________________________________________________________________\n",
      "dense_1 (Dense)                  (None, 512)           983552      elu_3[0][0]                      \n",
      "____________________________________________________________________________________________________\n",
      "dropout_1 (Dropout)              (None, 512)           0           dense_1[0][0]                    \n",
      "____________________________________________________________________________________________________\n",
      "elu_4 (ELU)                      (None, 512)           0           dropout_1[0][0]                  \n",
      "____________________________________________________________________________________________________\n",
      "dense_2 (Dense)                  (None, 50)            25650       elu_4[0][0]                      \n",
      "____________________________________________________________________________________________________\n",
      "elu_5 (ELU)                      (None, 50)            0           dense_2[0][0]                    \n",
      "____________________________________________________________________________________________________\n",
      "dense_3 (Dense)                  (None, 1)             51          elu_5[0][0]                      \n",
      "====================================================================================================\n",
      "Total params: 1,096,359\n",
      "Trainable params: 1,096,359\n",
      "Non-trainable params: 0\n",
      "____________________________________________________________________________________________________\n",
      "Epoch 1/1\n",
      "7634/7634 [==============================] - 35s - loss: 0.0178 - acc: 0.5428 - val_loss: 0.0107 - val_acc: 0.5398\n"
     ]
    }
   ],
   "source": [
    "import numpy as np\n",
    "import tensorflow as tf \n",
    "\n",
    "import os\n",
    "from sklearn.model_selection import train_test_split\n",
    "import csv\n",
    "\n",
    "with open('data/driving_log.csv') as f:\n",
    "    x = [line for line in csv.reader(f)]\n",
    "x_train, x_val = train_test_split(x, test_size=0.05)\n",
    "\n",
    "import matplotlib.image as mpimg\n",
    "from sklearn.utils import shuffle\n",
    "\n",
    "PREFIX = './data/';\n",
    "\n",
    "def gen(x, batch):\n",
    "    while True:\n",
    "        shuffle(x)\n",
    "        for offset in range(0, len(x), batch):\n",
    "            img_list = []\n",
    "            metrics_list = []\n",
    "            for xx in x[offset:offset+batch]:\n",
    "                img_list.append(mpimg.imread(PREFIX + xx[0]))\n",
    "                metrics_list.append(float(xx[3]))\n",
    "\n",
    "            yield shuffle(np.array(img_list), np.array(metrics_list))\n",
    "\n",
    "from keras.layers import Dense, Dropout, Activation, Flatten, ELU\n",
    "from keras.models import Sequential\n",
    "from keras.layers import Convolution2D, MaxPooling2D, Cropping2D\n",
    "from keras.optimizers import Adam\n",
    "from keras.layers.core import Lambda\n",
    "\n",
    "\n",
    "def addElu():\n",
    "    model.add(ELU())\n",
    "    \n",
    "def add_flatten_layer():\n",
    "    model.add(Flatten())\n",
    "    \n",
    "def add_conv_layer(dims, subsample, border_mode):\n",
    "    model.add(Convolution2D(dims[0], dims[1], dims[2], subsample=subsample, border_mode=border_mode))\n",
    "    \n",
    "def conv1():\n",
    "    add_conv_layer((18,9,9), (4,4), \"same\")\n",
    "    addElu()\n",
    "def conv2():\n",
    "    add_conv_layer((30,5,5), (2,2), \"same\")\n",
    "    addElu()\n",
    "def conv3():\n",
    "    add_conv_layer((64,6,6), (2,2), \"same\")\n",
    "    add_flatten_layer()\n",
    "    addElu()\n",
    "    \n",
    "def crop():\n",
    "    model.add(Cropping2D(cropping=((80, 20), (0, 0)),\n",
    "                     dim_ordering='tf', \n",
    "                     input_shape=(160, 320, 3)))\n",
    "    \n",
    "def add_lambdas():\n",
    "    model.add(Lambda(lambda img: tf.image.resize_images(img, [40, 160])))\n",
    "    model.add(Lambda(lambda x: (x/255.0) - 0.5))\n",
    "\n",
    "def add_layer(dims, dropout):\n",
    "    model.add(Dense(dims))\n",
    "    if dropout:\n",
    "        model.add(Dropout(dropout))\n",
    "\n",
    "def build_and_run_model():\n",
    "    crop()\n",
    "    add_lambdas()\n",
    "\n",
    "    # add conv layers\n",
    "    conv1()\n",
    "    conv2()\n",
    "    conv3()\n",
    "\n",
    "    add_layer(512, 0.5)\n",
    "    addElu()\n",
    "    add_layer(50, False)\n",
    "    addElu()\n",
    "    add_layer(1, False)\n",
    "    model.compile(optimizer=Adam(lr=0.0001), loss=\"mse\", metrics=['accuracy'])\n",
    "    model.summary()\n",
    "\n",
    "model = Sequential()\n",
    "build_and_run_model()\n",
    "    \n",
    "model.fit_generator(gen(x_train, 32), \n",
    "                    samples_per_epoch=len(x_train), \n",
    "                    validation_data=gen(x_val, 32),\n",
    "                    nb_val_samples=len(x_val), nb_epoch=1)\n",
    "model.save('model.h5');"
   ]
  },
  {
   "cell_type": "code",
   "execution_count": null,
   "metadata": {
    "collapsed": true
   },
   "outputs": [],
   "source": []
  },
  {
   "cell_type": "code",
   "execution_count": 5,
   "metadata": {},
   "outputs": [
    {
     "data": {
      "text/plain": [
       "256"
      ]
     },
     "execution_count": 5,
     "metadata": {},
     "output_type": "execute_result"
    }
   ],
   "source": []
  },
  {
   "cell_type": "code",
   "execution_count": null,
   "metadata": {
    "collapsed": true
   },
   "outputs": [],
   "source": []
  }
 ],
 "metadata": {
  "kernelspec": {
   "display_name": "Python 3",
   "language": "python",
   "name": "python3"
  },
  "language_info": {
   "codemirror_mode": {
    "name": "ipython",
    "version": 3
   },
   "file_extension": ".py",
   "mimetype": "text/x-python",
   "name": "python",
   "nbconvert_exporter": "python",
   "pygments_lexer": "ipython3",
   "version": "3.5.2"
  },
  "widgets": {
   "state": {},
   "version": "1.1.2"
  }
 },
 "nbformat": 4,
 "nbformat_minor": 2
}
