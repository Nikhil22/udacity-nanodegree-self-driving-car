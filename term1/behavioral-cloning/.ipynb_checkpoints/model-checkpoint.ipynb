{
 "cells": [
  {
   "cell_type": "code",
   "execution_count": null,
   "metadata": {
    "collapsed": true
   },
   "outputs": [],
   "source": [
    "import numpy as np\n",
    "import tensorflow as tf \n",
    "\n",
    "import os\n",
    "from sklearn.model_selection import train_test_split\n",
    "import csv\n",
    "\n",
    "with open('data/driving_log.csv') as f:\n",
    "    x = [line for line in csv.reader(f)]\n",
    "x_train, x_val = train_test_split(x, test_size=0.05)\n",
    "\n",
    "import matplotlib.image as mpimg\n",
    "from sklearn.utils import shuffle\n",
    "\n",
    "PREFIX = './data/';\n",
    "\n",
    "def generator(x, batch):\n",
    "    while True:\n",
    "        shuffle(x)\n",
    "        for offset in range(0, len(x), batch):\n",
    "            img_list = []\n",
    "            metrics_list = []\n",
    "            for xx in x[offset:offset+batch]:\n",
    "                steering_center = float(xx[3])\n",
    "                correction = 0.2 \n",
    "                steering_left = steering_center + correction\n",
    "                steering_right = steering_center - correction\n",
    "                for i in range(3):\n",
    "                    img = mpimg.imread(PREFIX + xx[i].strip())\n",
    "                    img_list.append(img)\n",
    "                metrics_list += [steering_center, steering_left, steering_right]\n",
    "\n",
    "            yield shuffle(np.array(img_list), np.array(metrics_list))\n",
    "\n",
    "from keras.layers import Dense, Dropout, Activation, Flatten, ELU\n",
    "from keras.models import Sequential\n",
    "from keras.layers import Convolution2D, MaxPooling2D, Cropping2D\n",
    "from keras.optimizers import Adam\n",
    "from keras.layers.core import Lambda\n",
    "\n",
    "CROPPING_DIMS = ((70, 25), (0, 0))\n",
    "INPUT_SHAPE = (160, 320, 3)\n",
    "CONV_1 = (16, 8, 8)\n",
    "CONV_2 = (, 8, 8)\n",
    "RESIZE_DIMS = [40, 160]\n",
    "\n",
    "def resize(img):\n",
    "    import tensorflow as tf\n",
    "    return tf.image.resize_images(img, RESIZE_DIMS)\n",
    "\n",
    "model = Sequential()\n",
    "model.add(Cropping2D(cropping=(*CROPPING_DIMS), \n",
    "                     dim_ordering='tf',  \n",
    "                     input_shape=INPUT_SHAPE)) \n",
    "\n",
    "# normalize\n",
    "model.add(Lambda(lambda x: (x/255.0) - 0.5))\n",
    "model.add(Convolution2D(*CONV_1, subsample=(4, 4), border_mode=\"same\")) \n",
    "model.add(ELU()) \n",
    "model.add(Convolution2D(32, 5, 5, subsample=(2, 2), border_mode=\"same\")) \\\n",
    "    .add(ELU()) \\\n",
    "    .add(Convolution2D(64, 5, 5, subsample=(2, 2), border_mode=\"same\")) \\\n",
    "    .add(Flatten()) \\\n",
    "    .add(ELU()) \\\n",
    "    .add(Dense(512)) \\\n",
    "    .add(Dropout(.5)) \\\n",
    "    .add(ELU()) \\\n",
    "    .add(Dense(50)) \\\n",
    "    .add(ELU()) \\\n",
    "    .add(Dense(1)) \n",
    "    \n",
    "model = cloner.model\n",
    "model.compile(optimizer=Adam(lr=0.0001), loss=\"mse\", metrics=['accuracy'])\n",
    "model.summary()\n",
    "model.fit_generator(generator(x_train, 32), \n",
    "                    samples_per_epoch=len(x_train) * 3, \n",
    "                    validation_data=generator(x_val, 32),\n",
    "                    nb_val_samples=len(x_val), nb_epoch=5)\n",
    "model.save('model.h5')"
   ]
  },
  {
   "cell_type": "code",
   "execution_count": null,
   "metadata": {
    "collapsed": true
   },
   "outputs": [],
   "source": []
  },
  {
   "cell_type": "code",
   "execution_count": null,
   "metadata": {
    "collapsed": true
   },
   "outputs": [],
   "source": []
  }
 ],
 "metadata": {
  "kernelspec": {
   "display_name": "Python 3",
   "language": "python",
   "name": "python3"
  },
  "language_info": {
   "codemirror_mode": {
    "name": "ipython",
    "version": 3
   },
   "file_extension": ".py",
   "mimetype": "text/x-python",
   "name": "python",
   "nbconvert_exporter": "python",
   "pygments_lexer": "ipython3",
   "version": "3.5.2"
  },
  "widgets": {
   "state": {},
   "version": "1.1.2"
  }
 },
 "nbformat": 4,
 "nbformat_minor": 2
}
