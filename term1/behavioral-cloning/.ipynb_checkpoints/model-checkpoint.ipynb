{
 "cells": [
  {
   "cell_type": "code",
   "execution_count": null,
   "metadata": {},
   "outputs": [],
   "source": [
    "import numpy as np\n",
    "import tensorflow as tf \n",
    "\n",
    "import os\n",
    "from sklearn.model_selection import train_test_split\n",
    "import csv\n",
    "\n",
    "with open('data/driving_log.csv') as f:\n",
    "    x = [line for line in csv.reader(f)]\n",
    "x_train, x_val = train_test_split(x, test_size=0.05)\n",
    "\n",
    "import matplotlib.image as mpimg\n",
    "from sklearn.utils import shuffle\n",
    "\n",
    "PREFIX = './data/';\n",
    "\n",
    "def gen(x, batch):\n",
    "    while True:\n",
    "        shuffle(x)\n",
    "        for offset in range(0, len(x), batch):\n",
    "            img_list = []\n",
    "            metrics_list = []\n",
    "            for xx in x[offset:offset+batch]:\n",
    "                img_list.append(mpimg.imread(PREFIX + xx[0]))\n",
    "                metrics_list.append(float(xx[3]))\n",
    "\n",
    "            yield shuffle(np.array(img_list), np.array(metrics_list))\n",
    "\n",
    "from keras.layers import Dense, Dropout, Activation, Flatten, ELU\n",
    "from keras.models import Sequential\n",
    "from keras.layers import Convolution2D, MaxPooling2D, Cropping2D\n",
    "from keras.optimizers import Adam\n",
    "from keras.layers.core import Lambda\n",
    "\n",
    "\n",
    "def addElu():\n",
    "    model.add(ELU())\n",
    "    \n",
    "def add_flatten_layer():\n",
    "    model.add(Flatten())\n",
    "    \n",
    "def add_conv_layer(dims, subsample, border_mode):\n",
    "    model.add(Convolution2D(dims[0], dims[1], dims[2], subsample=subsample, border_mode=border_mode))\n",
    "    \n",
    "def conv1():\n",
    "    add_conv_layer((18,9,9), (4,4), \"same\")\n",
    "    addElu()\n",
    "def conv2():\n",
    "    add_conv_layer((30,5,5), (2,2), \"same\")\n",
    "    addElu()\n",
    "def conv3():\n",
    "    add_conv_layer((64,6,6), (2,2), \"same\")\n",
    "    add_flatten_layer()\n",
    "    addElu()\n",
    "    \n",
    "def crop():\n",
    "    model.add(Cropping2D(cropping=((80, 20), (0, 0)),\n",
    "                     dim_ordering='tf', \n",
    "                     input_shape=(160, 320, 3)))\n",
    "    \n",
    "def add_lambdas():\n",
    "    model.add(Lambda(lambda img: tf.image.resize_images(img, [40, 160])))\n",
    "    model.add(Lambda(lambda x: (x/255.0) - 0.5))\n",
    "\n",
    "def add_layer(dims, dropout):\n",
    "    model.add(Dense(dims))\n",
    "    if dropout:\n",
    "        model.add(Dropout(dropout))\n",
    "\n",
    "def build_and_run_model():\n",
    "    crop()\n",
    "    add_lambdas()\n",
    "\n",
    "    # add conv layers\n",
    "    conv1()\n",
    "    conv2()\n",
    "    conv3()\n",
    "\n",
    "    add_layer(512, 0.5)\n",
    "    addElu()\n",
    "    add_layer(50, False)\n",
    "    addElu()\n",
    "    add_layer(1, False)\n",
    "    model.compile(optimizer=Adam(lr=0.0001), loss=\"mse\", metrics=['accuracy'])\n",
    "    model.summary()\n",
    "\n",
    "model = Sequential()\n",
    "build_and_run_model()\n",
    "    \n",
    "model.fit_generator(gen(x_train, 32), \n",
    "                    samples_per_epoch=len(x_train), \n",
    "                    validation_data=gen(x_val, 32),\n",
    "                    nb_val_samples=len(x_val), nb_epoch=1)\n",
    "model.save_weights('model.h5');"
   ]
  },
  {
   "cell_type": "code",
   "execution_count": null,
   "metadata": {
    "collapsed": true
   },
   "outputs": [],
   "source": []
  },
  {
   "cell_type": "code",
   "execution_count": null,
   "metadata": {
    "collapsed": true
   },
   "outputs": [],
   "source": []
  },
  {
   "cell_type": "code",
   "execution_count": null,
   "metadata": {
    "collapsed": true
   },
   "outputs": [],
   "source": []
  }
 ],
 "metadata": {
  "kernelspec": {
   "display_name": "Python 3",
   "language": "python",
   "name": "python3"
  },
  "language_info": {
   "codemirror_mode": {
    "name": "ipython",
    "version": 3
   },
   "file_extension": ".py",
   "mimetype": "text/x-python",
   "name": "python",
   "nbconvert_exporter": "python",
   "pygments_lexer": "ipython3",
   "version": "3.5.2"
  },
  "widgets": {
   "state": {},
   "version": "1.1.2"
  }
 },
 "nbformat": 4,
 "nbformat_minor": 2
}
